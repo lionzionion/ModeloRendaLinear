{
  "cells": [
    {
      "cell_type": "markdown",
      "metadata": {
        "id": "cBgW6rr3TRky"
      },
      "source": [
        "# EBAC - Regressão II - regressão múltipla\n",
        "\n",
        "## Tarefa I"
      ]
    },
    {
      "cell_type": "markdown",
      "metadata": {
        "id": "EkPnfcELTRk1"
      },
      "source": [
        "#### Previsão de renda\n",
        "\n",
        "Vamos trabalhar com a base 'previsao_de_renda.csv', que é a base do seu próximo projeto. Vamos usar os recursos que vimos até aqui nesta base.\n",
        "\n",
        "|variavel|descrição|\n",
        "|-|-|\n",
        "|data_ref                | Data de referência de coleta das variáveis |\n",
        "|index                   | Código de identificação do cliente|\n",
        "|sexo                    | Sexo do cliente|\n",
        "|posse_de_veiculo        | Indica se o cliente possui veículo|\n",
        "|posse_de_imovel         | Indica se o cliente possui imóvel|\n",
        "|qtd_filhos              | Quantidade de filhos do cliente|\n",
        "|tipo_renda              | Tipo de renda do cliente|\n",
        "|educacao                | Grau de instrução do cliente|\n",
        "|estado_civil            | Estado civil do cliente|\n",
        "|tipo_residencia         | Tipo de residência do cliente (própria, alugada etc)|\n",
        "|idade                   | Idade do cliente|\n",
        "|tempo_emprego           | Tempo no emprego atual|\n",
        "|qt_pessoas_residencia   | Quantidade de pessoas que moram na residência|\n",
        "|renda                   | Renda em reais|"
      ]
    },
    {
      "cell_type": "code",
      "execution_count": 1,
      "metadata": {
        "id": "-casZzNNTRk2"
      },
      "outputs": [],
      "source": [
        "import pandas as pd"
      ]
    },
    {
      "cell_type": "code",
      "execution_count": 2,
      "metadata": {
        "id": "M3U5vwnLTRk3"
      },
      "outputs": [],
      "source": [
        "df = pd.read_csv('previsao_de_renda.csv')"
      ]
    },
    {
      "cell_type": "code",
      "execution_count": 3,
      "metadata": {
        "colab": {
          "base_uri": "https://localhost:8080/"
        },
        "id": "5aOz8FsjTRk3",
        "outputId": "7f9b7a75-159e-4229-845c-c44435efdc31"
      },
      "outputs": [
        {
          "output_type": "stream",
          "name": "stdout",
          "text": [
            "<class 'pandas.core.frame.DataFrame'>\n",
            "RangeIndex: 15000 entries, 0 to 14999\n",
            "Data columns (total 15 columns):\n",
            " #   Column                 Non-Null Count  Dtype  \n",
            "---  ------                 --------------  -----  \n",
            " 0   Unnamed: 0             15000 non-null  int64  \n",
            " 1   data_ref               15000 non-null  object \n",
            " 2   id_cliente             15000 non-null  int64  \n",
            " 3   sexo                   15000 non-null  object \n",
            " 4   posse_de_veiculo       15000 non-null  bool   \n",
            " 5   posse_de_imovel        15000 non-null  bool   \n",
            " 6   qtd_filhos             15000 non-null  int64  \n",
            " 7   tipo_renda             15000 non-null  object \n",
            " 8   educacao               15000 non-null  object \n",
            " 9   estado_civil           15000 non-null  object \n",
            " 10  tipo_residencia        15000 non-null  object \n",
            " 11  idade                  15000 non-null  int64  \n",
            " 12  tempo_emprego          12427 non-null  float64\n",
            " 13  qt_pessoas_residencia  15000 non-null  float64\n",
            " 14  renda                  15000 non-null  float64\n",
            "dtypes: bool(2), float64(3), int64(4), object(6)\n",
            "memory usage: 1.5+ MB\n"
          ]
        }
      ],
      "source": [
        "df.info()"
      ]
    },
    {
      "cell_type": "markdown",
      "metadata": {
        "id": "k48gdDqcTRk4"
      },
      "source": [
        "1. Ajuste um modelo para prever log(renda) considerando todas as covariáveis disponíveis.\n",
        "    - Utilizando os recursos do Patsy, coloque as variáveis qualitativas como *dummies*.\n",
        "    - Mantenha sempre a categoria mais frequente como casela de referência\n",
        "    - Avalie os parâmetros e veja se parecem fazer sentido prático.  \n",
        "\n",
        "\n",
        "2. Remova a variável menos significante e analise:\n",
        "    - Observe os indicadores que vimos, e avalie se o modelo melhorou ou piorou na sua opinião.\n",
        "    - Observe os parâmetros e veja se algum se alterou muito.  \n",
        "\n",
        "\n",
        "3. Siga removendo as variáveis menos significantes, sempre que o *p-value* for menor que 5%. Compare o modelo final com o inicial. Observe os indicadores e conclua se o modelo parece melhor.\n",
        "    "
      ]
    },
    {
      "cell_type": "markdown",
      "source": [
        "# 1. Ajuste um modelo para prever log(renda) considerando todas as covariáveis disponíveis."
      ],
      "metadata": {
        "id": "23IvvTDvZ7ok"
      }
    },
    {
      "cell_type": "markdown",
      "source": [
        " * Utilizando os recursos do Patsy, coloque as variáveis qualitativas como dummies.\n",
        "\n",
        "\n",
        "\n",
        "\n",
        "\n",
        "\n",
        "\n"
      ],
      "metadata": {
        "id": "9e27VC2zYsSv"
      }
    },
    {
      "cell_type": "code",
      "execution_count": 9,
      "metadata": {
        "colab": {
          "base_uri": "https://localhost:8080/"
        },
        "id": "Tw2Pl0RTTRk5",
        "outputId": "3b8afbc7-8a29-4c0d-c403-747c2e0097a9"
      },
      "outputs": [
        {
          "output_type": "stream",
          "name": "stdout",
          "text": [
            "                            OLS Regression Results                            \n",
            "==============================================================================\n",
            "Dep. Variable:          np.log(renda)   R-squared:                       0.161\n",
            "Model:                            OLS   Adj. R-squared:                  0.159\n",
            "Method:                 Least Squares   F-statistic:                     89.46\n",
            "Date:                Thu, 21 Dec 2023   Prob (F-statistic):               0.00\n",
            "Time:                        21:42:34   Log-Likelihood:                -18112.\n",
            "No. Observations:               15000   AIC:                         3.629e+04\n",
            "Df Residuals:                   14967   BIC:                         3.654e+04\n",
            "Df Model:                          32                                         \n",
            "Covariance Type:            nonrobust                                         \n",
            "=======================================================================================================\n",
            "                                          coef    std err          t      P>|t|      [0.025      0.975]\n",
            "-------------------------------------------------------------------------------------------------------\n",
            "Intercept                               7.8589      0.090     87.245      0.000       7.682       8.035\n",
            "C(data_ref)[T.2015-02-01]              -0.0182      0.036     -0.502      0.616      -0.089       0.053\n",
            "C(data_ref)[T.2015-03-01]               0.0244      0.036      0.673      0.501      -0.047       0.095\n",
            "C(data_ref)[T.2015-04-01]               0.0338      0.036      0.933      0.351      -0.037       0.105\n",
            "C(data_ref)[T.2015-05-01]              -0.0419      0.036     -1.157      0.247      -0.113       0.029\n",
            "C(data_ref)[T.2015-06-01]               0.0462      0.036      1.274      0.203      -0.025       0.117\n",
            "C(data_ref)[T.2015-07-01]               0.0019      0.036      0.053      0.958      -0.069       0.073\n",
            "C(data_ref)[T.2015-08-01]              -0.0050      0.036     -0.138      0.891      -0.076       0.066\n",
            "C(data_ref)[T.2015-09-01]              -0.0223      0.036     -0.614      0.539      -0.093       0.049\n",
            "C(data_ref)[T.2015-10-01]               0.0046      0.036      0.127      0.899      -0.067       0.076\n",
            "C(data_ref)[T.2015-11-01]              -0.0012      0.036     -0.032      0.974      -0.072       0.070\n",
            "C(data_ref)[T.2015-12-01]               0.0315      0.036      0.867      0.386      -0.040       0.103\n",
            "C(data_ref)[T.2016-01-01]              -0.0246      0.036     -0.676      0.499      -0.096       0.047\n",
            "C(data_ref)[T.2016-02-01]           -1.621e-05      0.036     -0.000      1.000      -0.071       0.071\n",
            "C(data_ref)[T.2016-03-01]              -0.0616      0.036     -1.698      0.090      -0.133       0.010\n",
            "C(educacao)[T.Pós graduação]           -0.1012      0.171     -0.590      0.555      -0.437       0.235\n",
            "C(educacao)[T.Secundário]              -0.0277      0.064     -0.433      0.665      -0.153       0.098\n",
            "C(educacao)[T.Superior completo]        0.0710      0.064      1.102      0.271      -0.055       0.197\n",
            "C(educacao)[T.Superior incompleto]     -0.1521      0.072     -2.113      0.035      -0.293      -0.011\n",
            "C(estado_civil)[T.Separado]             0.0437      0.029      1.527      0.127      -0.012       0.100\n",
            "C(estado_civil)[T.Solteiro]            -0.0371      0.021     -1.781      0.075      -0.078       0.004\n",
            "C(estado_civil)[T.União]               -0.0677      0.026     -2.602      0.009      -0.119      -0.017\n",
            "C(estado_civil)[T.Viúvo]                0.0483      0.032      1.486      0.137      -0.015       0.112\n",
            "C(sexo)[T.M]                            0.6976      0.015     47.630      0.000       0.669       0.726\n",
            "C(tipo_renda)[T.Bolsista]               0.3965      0.271      1.465      0.143      -0.134       0.927\n",
            "C(tipo_renda)[T.Empresário]             0.0693      0.017      4.161      0.000       0.037       0.102\n",
            "C(tipo_renda)[T.Pensionista]           -0.1517      0.019     -7.858      0.000      -0.190      -0.114\n",
            "C(tipo_renda)[T.Servidor público]       0.2161      0.025      8.724      0.000       0.168       0.265\n",
            "C(tipo_residencia)[T.Casa]              0.1261      0.059      2.140      0.032       0.011       0.242\n",
            "C(tipo_residencia)[T.Com os pais]      -0.0344      0.066     -0.519      0.604      -0.164       0.095\n",
            "C(tipo_residencia)[T.Comunitário]      -0.1236      0.117     -1.054      0.292      -0.354       0.106\n",
            "C(tipo_residencia)[T.Estúdio]           0.3055      0.106      2.869      0.004       0.097       0.514\n",
            "C(tipo_residencia)[T.Governamental]     0.1392      0.070      1.991      0.046       0.002       0.276\n",
            "==============================================================================\n",
            "Omnibus:                      147.132   Durbin-Watson:                   2.026\n",
            "Prob(Omnibus):                  0.000   Jarque-Bera (JB):              167.976\n",
            "Skew:                           0.194   Prob(JB):                     3.35e-37\n",
            "Kurtosis:                       3.344   Cond. No.                         66.3\n",
            "==============================================================================\n",
            "\n",
            "Notes:\n",
            "[1] Standard Errors assume that the covariance matrix of the errors is correctly specified.\n"
          ]
        }
      ],
      "source": [
        "import pandas as pd\n",
        "import statsmodels.api as sm\n",
        "import patsy\n",
        "import numpy as np\n",
        "\n",
        "# Carregar os dados\n",
        "df = pd.read_csv('previsao_de_renda.csv')\n",
        "\n",
        "# Criar a fórmula com o Patsy, incluindo variáveis qualitativas como dummies\n",
        "formula = 'np.log(renda) ~ ' + ' + '.join(['C({})'.format(column) for column in df.select_dtypes(include=['object']).columns.difference(['renda'])])\n",
        "\n",
        "# Criar as matrizes de design usando patsy\n",
        "y, X = patsy.dmatrices(formula, df, return_type='dataframe')\n",
        "\n",
        "# Ajustar o modelo de regressão múltipla\n",
        "model = sm.OLS(y, X)\n",
        "result = model.fit()\n",
        "\n",
        "# Imprimir os resultados\n",
        "print(result.summary())\n",
        "\n"
      ]
    },
    {
      "cell_type": "markdown",
      "source": [
        "* Utilizando os recursos do Patsy, coloque as variáveis qualitativas como dummies."
      ],
      "metadata": {
        "id": "IFUkNRyvY4XC"
      }
    },
    {
      "cell_type": "code",
      "source": [
        "import pandas as pd\n",
        "import statsmodels.api as sm\n",
        "import patsy\n",
        "import numpy as np\n",
        "\n",
        "# Carregar os dados\n",
        "df = pd.read_csv('previsao_de_renda.csv')\n",
        "\n",
        "# Identificar variáveis categóricas\n",
        "categorical_columns = df.select_dtypes(include=['object']).columns\n",
        "\n",
        "# Criar a fórmula com o Patsy, incluindo variáveis qualitativas como dummies\n",
        "formula = 'np.log(renda) ~ ' + ' + '.join(['C({0}, Treatment(reference=\"{1}\"))'.format(column, df[column].mode().iloc[0]) for column in categorical_columns.difference(['renda'])])\n",
        "\n",
        "# Criar as matrizes de design usando patsy\n",
        "y, X = patsy.dmatrices(formula, df, return_type='dataframe')\n",
        "\n",
        "# Ajustar o modelo de regressão múltipla\n",
        "model = sm.OLS(y, X)\n",
        "result = model.fit()\n",
        "\n",
        "# Imprimir os resultados\n",
        "print(result.summary())\n"
      ],
      "metadata": {
        "colab": {
          "base_uri": "https://localhost:8080/"
        },
        "id": "rOXm8aO2W0Vg",
        "outputId": "f256cbbf-30ef-45c5-b2cc-ab963d068bb4"
      },
      "execution_count": 10,
      "outputs": [
        {
          "output_type": "stream",
          "name": "stdout",
          "text": [
            "                            OLS Regression Results                            \n",
            "==============================================================================\n",
            "Dep. Variable:          np.log(renda)   R-squared:                       0.161\n",
            "Model:                            OLS   Adj. R-squared:                  0.159\n",
            "Method:                 Least Squares   F-statistic:                     89.46\n",
            "Date:                Thu, 21 Dec 2023   Prob (F-statistic):               0.00\n",
            "Time:                        21:49:58   Log-Likelihood:                -18112.\n",
            "No. Observations:               15000   AIC:                         3.629e+04\n",
            "Df Residuals:                   14967   BIC:                         3.654e+04\n",
            "Df Model:                          32                                         \n",
            "Covariance Type:            nonrobust                                         \n",
            "=========================================================================================================================================\n",
            "                                                                            coef    std err          t      P>|t|      [0.025      0.975]\n",
            "-----------------------------------------------------------------------------------------------------------------------------------------\n",
            "Intercept                                                                 7.9573      0.028    285.520      0.000       7.903       8.012\n",
            "C(data_ref, Treatment(reference=\"2015-01-01\"))[T.2015-02-01]             -0.0182      0.036     -0.502      0.616      -0.089       0.053\n",
            "C(data_ref, Treatment(reference=\"2015-01-01\"))[T.2015-03-01]              0.0244      0.036      0.673      0.501      -0.047       0.095\n",
            "C(data_ref, Treatment(reference=\"2015-01-01\"))[T.2015-04-01]              0.0338      0.036      0.933      0.351      -0.037       0.105\n",
            "C(data_ref, Treatment(reference=\"2015-01-01\"))[T.2015-05-01]             -0.0419      0.036     -1.157      0.247      -0.113       0.029\n",
            "C(data_ref, Treatment(reference=\"2015-01-01\"))[T.2015-06-01]              0.0462      0.036      1.274      0.203      -0.025       0.117\n",
            "C(data_ref, Treatment(reference=\"2015-01-01\"))[T.2015-07-01]              0.0019      0.036      0.053      0.958      -0.069       0.073\n",
            "C(data_ref, Treatment(reference=\"2015-01-01\"))[T.2015-08-01]             -0.0050      0.036     -0.138      0.891      -0.076       0.066\n",
            "C(data_ref, Treatment(reference=\"2015-01-01\"))[T.2015-09-01]             -0.0223      0.036     -0.614      0.539      -0.093       0.049\n",
            "C(data_ref, Treatment(reference=\"2015-01-01\"))[T.2015-10-01]              0.0046      0.036      0.127      0.899      -0.067       0.076\n",
            "C(data_ref, Treatment(reference=\"2015-01-01\"))[T.2015-11-01]             -0.0012      0.036     -0.032      0.974      -0.072       0.070\n",
            "C(data_ref, Treatment(reference=\"2015-01-01\"))[T.2015-12-01]              0.0315      0.036      0.867      0.386      -0.040       0.103\n",
            "C(data_ref, Treatment(reference=\"2015-01-01\"))[T.2016-01-01]             -0.0246      0.036     -0.676      0.499      -0.096       0.047\n",
            "C(data_ref, Treatment(reference=\"2015-01-01\"))[T.2016-02-01]          -1.621e-05      0.036     -0.000      1.000      -0.071       0.071\n",
            "C(data_ref, Treatment(reference=\"2015-01-01\"))[T.2016-03-01]             -0.0616      0.036     -1.698      0.090      -0.133       0.010\n",
            "C(educacao, Treatment(reference=\"Secundário\"))[T.Primário]                0.0277      0.064      0.433      0.665      -0.098       0.153\n",
            "C(educacao, Treatment(reference=\"Secundário\"))[T.Pós graduação]          -0.0735      0.159     -0.461      0.645      -0.386       0.239\n",
            "C(educacao, Treatment(reference=\"Secundário\"))[T.Superior completo]       0.0986      0.015      6.803      0.000       0.070       0.127\n",
            "C(educacao, Treatment(reference=\"Secundário\"))[T.Superior incompleto]    -0.1244      0.035     -3.543      0.000      -0.193      -0.056\n",
            "C(estado_civil, Treatment(reference=\"Casado\"))[T.Separado]                0.0437      0.029      1.527      0.127      -0.012       0.100\n",
            "C(estado_civil, Treatment(reference=\"Casado\"))[T.Solteiro]               -0.0371      0.021     -1.781      0.075      -0.078       0.004\n",
            "C(estado_civil, Treatment(reference=\"Casado\"))[T.União]                  -0.0677      0.026     -2.602      0.009      -0.119      -0.017\n",
            "C(estado_civil, Treatment(reference=\"Casado\"))[T.Viúvo]                   0.0483      0.032      1.486      0.137      -0.015       0.112\n",
            "C(sexo, Treatment(reference=\"F\"))[T.M]                                    0.6976      0.015     47.630      0.000       0.669       0.726\n",
            "C(tipo_renda, Treatment(reference=\"Assalariado\"))[T.Bolsista]             0.3965      0.271      1.465      0.143      -0.134       0.927\n",
            "C(tipo_renda, Treatment(reference=\"Assalariado\"))[T.Empresário]           0.0693      0.017      4.161      0.000       0.037       0.102\n",
            "C(tipo_renda, Treatment(reference=\"Assalariado\"))[T.Pensionista]         -0.1517      0.019     -7.858      0.000      -0.190      -0.114\n",
            "C(tipo_renda, Treatment(reference=\"Assalariado\"))[T.Servidor público]     0.2161      0.025      8.724      0.000       0.168       0.265\n",
            "C(tipo_residencia, Treatment(reference=\"Casa\"))[T.Aluguel]               -0.1261      0.059     -2.140      0.032      -0.242      -0.011\n",
            "C(tipo_residencia, Treatment(reference=\"Casa\"))[T.Com os pais]           -0.1605      0.032     -4.971      0.000      -0.224      -0.097\n",
            "C(tipo_residencia, Treatment(reference=\"Casa\"))[T.Comunitário]           -0.2497      0.102     -2.448      0.014      -0.450      -0.050\n",
            "C(tipo_residencia, Treatment(reference=\"Casa\"))[T.Estúdio]                0.1794      0.089      2.006      0.045       0.004       0.355\n",
            "C(tipo_residencia, Treatment(reference=\"Casa\"))[T.Governamental]          0.0131      0.039      0.338      0.735      -0.063       0.089\n",
            "==============================================================================\n",
            "Omnibus:                      147.132   Durbin-Watson:                   2.026\n",
            "Prob(Omnibus):                  0.000   Jarque-Bera (JB):              167.976\n",
            "Skew:                           0.194   Prob(JB):                     3.35e-37\n",
            "Kurtosis:                       3.344   Cond. No.                         49.5\n",
            "==============================================================================\n",
            "\n",
            "Notes:\n",
            "[1] Standard Errors assume that the covariance matrix of the errors is correctly specified.\n"
          ]
        }
      ]
    },
    {
      "cell_type": "markdown",
      "source": [
        "* Avalie os parâmetros e veja se parecem fazer sentido prático."
      ],
      "metadata": {
        "id": "gWnTsSNzZMgv"
      }
    },
    {
      "cell_type": "markdown",
      "source": [
        "O modelo de regressão linear analisado revela insights significativos sobre os determinantes da renda. O intercepto de 7.958 representa a renda média quando todas as variáveis são zero ou na categoria de referência. Os coeficientes para as datas de referência indicam variações na renda em comparação com '2015-01-01', embora alguns não sejam estatisticamente significativos. A educação mostra influência significativa, sendo que ter 'Superior incompleto' está associado a uma diminuição de 0.1521 nas unidades do logaritmo da renda. O estado civil também é relevante, sendo 'União' associado a uma diminuição de 0.0677. Clientes do sexo masculino têm uma renda média exp(0.6976) vezes maior do que os do sexo feminino. Algumas variáveis de tipo de renda e residência têm efeitos significativos. O modelo explica 16.1% da variabilidade na renda, e o teste F é estatisticamente significativo (p = 0.00)."
      ],
      "metadata": {
        "id": "DSlR_ExYZP4a"
      }
    },
    {
      "cell_type": "markdown",
      "source": [
        "# 2. Remova a variável menos significante e analise:"
      ],
      "metadata": {
        "id": "-zWtInkZZvVe"
      }
    },
    {
      "cell_type": "markdown",
      "source": [
        "* Observe os indicadores que vimos, e avalie se o modelo melhorou ou piorou na sua opinião.\n",
        "* Observe os parâmetros e veja se algum se alterou muito."
      ],
      "metadata": {
        "id": "DdpQ0uwea7cO"
      }
    },
    {
      "cell_type": "code",
      "source": [
        "import pandas as pd\n",
        "import statsmodels.api as sm\n",
        "import patsy\n",
        "import numpy as np\n",
        "\n",
        "# Carregar os dados\n",
        "df = pd.read_csv('previsao_de_renda.csv')\n",
        "\n",
        "# Remover as variáveis menos significativas\n",
        "df = df.drop(['Unnamed: 0', 'data_ref'], axis=1)\n",
        "\n",
        "# Criar a fórmula com o Patsy, incluindo variáveis qualitativas como dummies\n",
        "formula = 'np.log(renda) ~ ' + ' + '.join(['C({})'.format(column) for column in df.select_dtypes(include=['object']).columns.difference(['renda'])])\n",
        "\n",
        "# Criar as matrizes de design usando patsy\n",
        "y, X = patsy.dmatrices(formula, df, return_type='dataframe')\n",
        "\n",
        "# Ajustar o modelo de regressão múltipla\n",
        "model = sm.OLS(y, X)\n",
        "result = model.fit()\n",
        "\n",
        "# Imprimir os resultados\n",
        "print(result.summary())\n"
      ],
      "metadata": {
        "colab": {
          "base_uri": "https://localhost:8080/"
        },
        "id": "sXjk2Ssya_fL",
        "outputId": "16c13e30-bb57-4404-b26f-059129d7a170"
      },
      "execution_count": 11,
      "outputs": [
        {
          "output_type": "stream",
          "name": "stdout",
          "text": [
            "                            OLS Regression Results                            \n",
            "==============================================================================\n",
            "Dep. Variable:          np.log(renda)   R-squared:                       0.160\n",
            "Model:                            OLS   Adj. R-squared:                  0.159\n",
            "Method:                 Least Squares   F-statistic:                     158.0\n",
            "Date:                Thu, 21 Dec 2023   Prob (F-statistic):               0.00\n",
            "Time:                        22:11:43   Log-Likelihood:                -18121.\n",
            "No. Observations:               15000   AIC:                         3.628e+04\n",
            "Df Residuals:                   14981   BIC:                         3.642e+04\n",
            "Df Model:                          18                                         \n",
            "Covariance Type:            nonrobust                                         \n",
            "=======================================================================================================\n",
            "                                          coef    std err          t      P>|t|      [0.025      0.975]\n",
            "-------------------------------------------------------------------------------------------------------\n",
            "Intercept                               7.8575      0.087     90.590      0.000       7.688       8.028\n",
            "C(educacao)[T.Pós graduação]           -0.0951      0.171     -0.555      0.579      -0.431       0.241\n",
            "C(educacao)[T.Secundário]              -0.0252      0.064     -0.394      0.693      -0.150       0.100\n",
            "C(educacao)[T.Superior completo]        0.0718      0.064      1.115      0.265      -0.054       0.198\n",
            "C(educacao)[T.Superior incompleto]     -0.1492      0.072     -2.074      0.038      -0.290      -0.008\n",
            "C(estado_civil)[T.Separado]             0.0430      0.029      1.505      0.132      -0.013       0.099\n",
            "C(estado_civil)[T.Solteiro]            -0.0376      0.021     -1.804      0.071      -0.078       0.003\n",
            "C(estado_civil)[T.União]               -0.0695      0.026     -2.673      0.008      -0.120      -0.019\n",
            "C(estado_civil)[T.Viúvo]                0.0460      0.032      1.417      0.156      -0.018       0.110\n",
            "C(sexo)[T.M]                            0.6972      0.015     47.608      0.000       0.669       0.726\n",
            "C(tipo_renda)[T.Bolsista]               0.4004      0.271      1.480      0.139      -0.130       0.931\n",
            "C(tipo_renda)[T.Empresário]             0.0685      0.017      4.108      0.000       0.036       0.101\n",
            "C(tipo_renda)[T.Pensionista]           -0.1520      0.019     -7.877      0.000      -0.190      -0.114\n",
            "C(tipo_renda)[T.Servidor público]       0.2168      0.025      8.757      0.000       0.168       0.265\n",
            "C(tipo_residencia)[T.Casa]              0.1241      0.059      2.108      0.035       0.009       0.240\n",
            "C(tipo_residencia)[T.Com os pais]      -0.0372      0.066     -0.563      0.574      -0.167       0.092\n",
            "C(tipo_residencia)[T.Comunitário]      -0.1272      0.117     -1.085      0.278      -0.357       0.103\n",
            "C(tipo_residencia)[T.Estúdio]           0.3043      0.106      2.858      0.004       0.096       0.513\n",
            "C(tipo_residencia)[T.Governamental]     0.1376      0.070      1.969      0.049       0.001       0.275\n",
            "==============================================================================\n",
            "Omnibus:                      145.795   Durbin-Watson:                   2.023\n",
            "Prob(Omnibus):                  0.000   Jarque-Bera (JB):              166.268\n",
            "Skew:                           0.193   Prob(JB):                     7.86e-37\n",
            "Kurtosis:                       3.342   Cond. No.                         65.5\n",
            "==============================================================================\n",
            "\n",
            "Notes:\n",
            "[1] Standard Errors assume that the covariance matrix of the errors is correctly specified.\n"
          ]
        }
      ]
    },
    {
      "cell_type": "markdown",
      "source": [
        "**Após remover as variáveis menos significativas, o modelo resultante apresenta as seguintes estatísticas:**\n",
        "\n",
        "* R-squared: 0.160 (anteriormente 0.161)\n",
        "* Adj. R-squared: 0.159 (sem alteração)\n",
        "* F-statistic: 158.0 (anteriormente 89.46)\n",
        "* Prob (F-statistic): 0.00 (sem alteração)\n",
        "\n",
        "**Alguns coeficientes específicos também mudaram:**\n",
        "\n",
        "* C(educacao)[T.Pós graduação]: -0.0951 (anteriormente -0.1012)\n",
        "* C(educacao)[T.Superior incompleto]: -0.1492 (anteriormente -0.1521)\n",
        "* C(estado_civil)[T.União]: -0.0695 (anteriormente -0.0677)"
      ],
      "metadata": {
        "id": "bG_lsqkCctnr"
      }
    },
    {
      "cell_type": "markdown",
      "source": [
        "# 3. Siga removendo as variáveis menos significantes, sempre que o p-value for menor que 5%. Compare o modelo final com o inicial. Observe os indicadores e conclua se o modelo parece melhor."
      ],
      "metadata": {
        "id": "D5ZJKA7odKKr"
      }
    },
    {
      "cell_type": "code",
      "source": [
        "import pandas as pd\n",
        "import statsmodels.api as sm\n",
        "import patsy\n",
        "import numpy as np\n",
        "\n",
        "# Carregar os dados\n",
        "df = pd.read_csv('previsao_de_renda.csv')\n",
        "\n",
        "# Remover as variáveis menos significativas\n",
        "df = df.drop(['Unnamed: 0', 'data_ref' , 'estado_civil' , 'tipo_residencia' ], axis=1 )\n",
        "\n",
        "# Criar a fórmula com o Patsy, incluindo variáveis qualitativas como dummies\n",
        "formula = 'np.log(renda) ~ ' + ' + '.join(['C({})'.format(column) for column in df.select_dtypes(include=['object']).columns.difference(['renda'])])\n",
        "\n",
        "# Criar as matrizes de design usando patsy\n",
        "y, X = patsy.dmatrices(formula, df, return_type='dataframe')\n",
        "\n",
        "# Ajustar o modelo de regressão múltipla\n",
        "model = sm.OLS(y, X)\n",
        "result = model.fit()\n",
        "\n",
        "# Imprimir os resultados\n",
        "print(result.summary())"
      ],
      "metadata": {
        "colab": {
          "base_uri": "https://localhost:8080/"
        },
        "id": "7phEHG1udQyd",
        "outputId": "e7d7e100-bf39-4dc2-bdc8-f1d368e024bc"
      },
      "execution_count": 18,
      "outputs": [
        {
          "output_type": "stream",
          "name": "stdout",
          "text": [
            "                            OLS Regression Results                            \n",
            "==============================================================================\n",
            "Dep. Variable:          np.log(renda)   R-squared:                       0.156\n",
            "Model:                            OLS   Adj. R-squared:                  0.156\n",
            "Method:                 Least Squares   F-statistic:                     308.7\n",
            "Date:                Thu, 21 Dec 2023   Prob (F-statistic):               0.00\n",
            "Time:                        22:31:01   Log-Likelihood:                -18149.\n",
            "No. Observations:               15000   AIC:                         3.632e+04\n",
            "Df Residuals:                   14990   BIC:                         3.639e+04\n",
            "Df Model:                           9                                         \n",
            "Covariance Type:            nonrobust                                         \n",
            "======================================================================================================\n",
            "                                         coef    std err          t      P>|t|      [0.025      0.975]\n",
            "------------------------------------------------------------------------------------------------------\n",
            "Intercept                              7.9527      0.064    124.302      0.000       7.827       8.078\n",
            "C(educacao)[T.Pós graduação]          -0.0756      0.171     -0.441      0.659      -0.412       0.261\n",
            "C(educacao)[T.Secundário]             -0.0089      0.064     -0.140      0.889      -0.134       0.116\n",
            "C(educacao)[T.Superior completo]       0.0842      0.064      1.307      0.191      -0.042       0.210\n",
            "C(educacao)[T.Superior incompleto]    -0.1529      0.072     -2.126      0.034      -0.294      -0.012\n",
            "C(sexo)[T.M]                           0.6920      0.014     47.977      0.000       0.664       0.720\n",
            "C(tipo_renda)[T.Bolsista]              0.4169      0.271      1.539      0.124      -0.114       0.948\n",
            "C(tipo_renda)[T.Empresário]            0.0697      0.017      4.187      0.000       0.037       0.102\n",
            "C(tipo_renda)[T.Pensionista]          -0.1354      0.019     -7.153      0.000      -0.173      -0.098\n",
            "C(tipo_renda)[T.Servidor público]      0.2190      0.025      8.843      0.000       0.170       0.268\n",
            "==============================================================================\n",
            "Omnibus:                      153.401   Durbin-Watson:                   2.024\n",
            "Prob(Omnibus):                  0.000   Jarque-Bera (JB):              176.845\n",
            "Skew:                           0.196   Prob(JB):                     3.97e-39\n",
            "Kurtosis:                       3.360   Cond. No.                         53.5\n",
            "==============================================================================\n",
            "\n",
            "Notes:\n",
            "[1] Standard Errors assume that the covariance matrix of the errors is correctly specified.\n"
          ]
        }
      ]
    },
    {
      "cell_type": "markdown",
      "source": [
        "## Consideraçoes finais:"
      ],
      "metadata": {
        "id": "dZuuExZQhRi9"
      }
    },
    {
      "cell_type": "markdown",
      "source": [
        "### Após a remoção das variáveis ['Unnamed: 0', 'data_ref', 'estado_civil', 'tipo_residencia'], o modelo de regressão linear parece ter passado por algumas mudanças significativas. Aqui estão algumas considerações finais com base nos resultados analizados:\n",
        "\n",
        "1. **Redução de Variáveis:** A remoção dessas variáveis menos significativas levou a um modelo mais simplificado, com menos preditores.\n",
        "\n",
        "2. **Estatísticas Globais do Modelo:** O valor do F-statistic aumentou significativamente para 308.7, indicando que o modelo geral é estatisticamente significativo. Isso sugere que pelo menos uma das variáveis independentes tem um efeito significativo na variável dependente.\n",
        "\n",
        "3. **R-squared:** O coeficiente de determinação (R-squared) aumentou para 0.156, indicando que o modelo explica aproximadamente 15.6% da variabilidade na variável dependente. Isso representa uma melhoria em relação ao modelo anterior.\n",
        "\n",
        "4. **Coeficientes Individuais:** Os coeficientes para as variáveis remanescentes indicam a direção e magnitude da relação com a variável dependente. Por exemplo, o coeficiente positivo para 'C(sexo)[T.M]' sugere um aumento na renda para clientes do sexo masculino em comparação com o sexo feminino.\n",
        "\n",
        "5. **P-valores:** Os p-valores associados aos coeficientes indicam a significância estatística de cada variável. Valores-p baixos (geralmente abaixo de 0.05) são considerados estatisticamente significativos.\n",
        "\n",
        "\n",
        "\n",
        "\n",
        "\n",
        "\n",
        "\n",
        "\n"
      ],
      "metadata": {
        "id": "9tbUXHyXhZ75"
      }
    }
  ],
  "metadata": {
    "kernelspec": {
      "display_name": "Python 3",
      "language": "python",
      "name": "python3"
    },
    "language_info": {
      "codemirror_mode": {
        "name": "ipython",
        "version": 3
      },
      "file_extension": ".py",
      "mimetype": "text/x-python",
      "name": "python",
      "nbconvert_exporter": "python",
      "pygments_lexer": "ipython3",
      "version": "3.8.5"
    },
    "colab": {
      "provenance": []
    }
  },
  "nbformat": 4,
  "nbformat_minor": 0
}